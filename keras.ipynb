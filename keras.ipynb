{
  "nbformat": 4,
  "nbformat_minor": 0,
  "metadata": {
    "colab": {
      "name": "Untitled0.ipynb",
      "provenance": [],
      "collapsed_sections": []
    },
    "kernelspec": {
      "name": "python3",
      "display_name": "Python 3"
    },
    "language_info": {
      "name": "python"
    }
  },
  "cells": [
    {
      "cell_type": "code",
      "execution_count": null,
      "metadata": {
        "colab": {
          "base_uri": "https://localhost:8080/"
        },
        "id": "LTy9MbvWdVZ9",
        "outputId": "bb14261e-402d-42c6-99be-032430a4f15c"
      },
      "outputs": [
        {
          "output_type": "stream",
          "name": "stdout",
          "text": [
            "Looking in indexes: https://pypi.org/simple, https://us-python.pkg.dev/colab-wheels/public/simple/\n",
            "Requirement already satisfied: apache-tvm in /usr/local/lib/python3.7/dist-packages (0.9.0)\n",
            "Requirement already satisfied: cloudpickle in /usr/local/lib/python3.7/dist-packages (from apache-tvm) (1.3.0)\n",
            "Requirement already satisfied: synr==0.6.0 in /usr/local/lib/python3.7/dist-packages (from apache-tvm) (0.6.0)\n",
            "Requirement already satisfied: decorator in /usr/local/lib/python3.7/dist-packages (from apache-tvm) (4.4.2)\n",
            "Requirement already satisfied: attrs in /usr/local/lib/python3.7/dist-packages (from apache-tvm) (22.1.0)\n",
            "Requirement already satisfied: numpy in /usr/local/lib/python3.7/dist-packages (from apache-tvm) (1.21.6)\n",
            "Requirement already satisfied: tornado in /usr/local/lib/python3.7/dist-packages (from apache-tvm) (5.1.1)\n",
            "Requirement already satisfied: psutil in /usr/local/lib/python3.7/dist-packages (from apache-tvm) (5.4.8)\n",
            "Requirement already satisfied: scipy in /usr/local/lib/python3.7/dist-packages (from apache-tvm) (1.7.3)\n"
          ]
        }
      ],
      "source": [
        "!pip install apache-tvm"
      ]
    },
    {
      "cell_type": "code",
      "source": [
        "import tvm \n",
        "import numpy as np\n",
        "import tensorflow as tf"
      ],
      "metadata": {
        "id": "yOxcz_0nUWD5"
      },
      "execution_count": null,
      "outputs": []
    },
    {
      "cell_type": "code",
      "source": [
        "print(\"TVM version:\", tvm.__version__)\n",
        "print(\"NumPy version:\", np.__version__)\n",
        "print(\"TensorFlow version:\", tf.__version__)"
      ],
      "metadata": {
        "colab": {
          "base_uri": "https://localhost:8080/"
        },
        "id": "bBQ6zrI8_Oaq",
        "outputId": "64afb28a-a23b-4bcf-d5e9-aa631f07c028"
      },
      "execution_count": null,
      "outputs": [
        {
          "output_type": "stream",
          "name": "stdout",
          "text": [
            "TVM version: 0.9.0\n",
            "NumPy version: 1.21.6\n",
            "TensorFlow version: 2.8.2\n"
          ]
        }
      ]
    },
    {
      "cell_type": "code",
      "source": [
        "fashion_mnist = tf.keras.datasets.fashion_mnist\n",
        "(train_images, train_labels), (test_images, test_labels) = fashion_mnist.load_data()"
      ],
      "metadata": {
        "id": "2O1hsmdVWPpv"
      },
      "execution_count": null,
      "outputs": []
    },
    {
      "cell_type": "code",
      "source": [
        "train_images = train_images / 255.0\n",
        "test_images = test_images / 255.0"
      ],
      "metadata": {
        "id": "BgNnGwXp-1Iv"
      },
      "execution_count": null,
      "outputs": []
    },
    {
      "cell_type": "code",
      "source": [
        "class_names = ['T-shirt/top', 'Trouser', 'Pullover', 'Dress', 'Coat', 'Sandal',\n",
        "               'Shirt', 'Sneaker', 'Bag', 'Ankle boot']"
      ],
      "metadata": {
        "id": "MzlI2XKNWVAI"
      },
      "execution_count": null,
      "outputs": []
    },
    {
      "cell_type": "code",
      "source": [
        "model = tf.keras.Sequential([\n",
        "    tf.keras.layers.Flatten(input_shape=(28, 28), name='flatten_1'),\n",
        "    tf.keras.layers.Dense(128, activation='relu'),\n",
        "    tf.keras.layers.Dense(10)\n",
        "])"
      ],
      "metadata": {
        "id": "7oZWO14NWgg-"
      },
      "execution_count": null,
      "outputs": []
    },
    {
      "cell_type": "code",
      "source": [
        "model.compile(optimizer='adam', \n",
        "              loss=tf.keras.losses.SparseCategoricalCrossentropy(from_logits=True),\n",
        "              metrics=['accuracy'])"
      ],
      "metadata": {
        "id": "dUzqmfC6Wntd"
      },
      "execution_count": null,
      "outputs": []
    },
    {
      "cell_type": "code",
      "source": [
        "model.fit(train_images, train_labels, epochs=10)"
      ],
      "metadata": {
        "colab": {
          "base_uri": "https://localhost:8080/"
        },
        "id": "7Z0k0dZlWrO2",
        "outputId": "26df37c1-f401-42e3-d00f-c5ef3d3180fd"
      },
      "execution_count": null,
      "outputs": [
        {
          "output_type": "stream",
          "name": "stdout",
          "text": [
            "Epoch 1/10\n",
            "1875/1875 [==============================] - 6s 3ms/step - loss: 0.4948 - accuracy: 0.8268\n",
            "Epoch 2/10\n",
            "1875/1875 [==============================] - 6s 3ms/step - loss: 0.3743 - accuracy: 0.8660\n",
            "Epoch 3/10\n",
            "1875/1875 [==============================] - 4s 2ms/step - loss: 0.3353 - accuracy: 0.8788\n",
            "Epoch 4/10\n",
            "1875/1875 [==============================] - 4s 2ms/step - loss: 0.3123 - accuracy: 0.8846\n",
            "Epoch 5/10\n",
            "1875/1875 [==============================] - 4s 2ms/step - loss: 0.2922 - accuracy: 0.8924\n",
            "Epoch 6/10\n",
            "1875/1875 [==============================] - 4s 2ms/step - loss: 0.2793 - accuracy: 0.8968\n",
            "Epoch 7/10\n",
            "1875/1875 [==============================] - 4s 2ms/step - loss: 0.2666 - accuracy: 0.9006\n",
            "Epoch 8/10\n",
            "1875/1875 [==============================] - 6s 3ms/step - loss: 0.2540 - accuracy: 0.9052\n",
            "Epoch 9/10\n",
            "1875/1875 [==============================] - 4s 2ms/step - loss: 0.2454 - accuracy: 0.9091\n",
            "Epoch 10/10\n",
            "1875/1875 [==============================] - 4s 2ms/step - loss: 0.2359 - accuracy: 0.9115\n"
          ]
        },
        {
          "output_type": "execute_result",
          "data": {
            "text/plain": [
              "<keras.callbacks.History at 0x7f39c58b5590>"
            ]
          },
          "metadata": {},
          "execution_count": 48
        }
      ]
    },
    {
      "cell_type": "code",
      "source": [
        "test_loss, test_acc = model.evaluate(test_images,  test_labels, verbose=2)\n",
        "print('\\nTest accuracy:', test_acc)"
      ],
      "metadata": {
        "id": "1nhqQB2TWuCY",
        "colab": {
          "base_uri": "https://localhost:8080/"
        },
        "outputId": "b56f2b18-13e0-410e-fa41-1b3092cc8960"
      },
      "execution_count": null,
      "outputs": [
        {
          "output_type": "stream",
          "name": "stdout",
          "text": [
            "313/313 - 1s - loss: 0.3410 - accuracy: 0.8840 - 520ms/epoch - 2ms/step\n",
            "\n",
            "Test accuracy: 0.8840000033378601\n"
          ]
        }
      ]
    },
    {
      "cell_type": "code",
      "source": [
        "probability_model = tf.keras.Sequential([model, tf.keras.layers.Softmax()])\n",
        "predictions = probability_model.predict(test_images)\n",
        "print(\"Keras predict: \", class_names[np.argmax(predictions[0])])\n",
        "print(\"Answer: \", class_names[test_labels[0]])"
      ],
      "metadata": {
        "id": "JxSgpGdKXS8W",
        "colab": {
          "base_uri": "https://localhost:8080/"
        },
        "outputId": "dcb6fd94-36e8-42e6-e74b-d52848e1c00d"
      },
      "execution_count": null,
      "outputs": [
        {
          "output_type": "stream",
          "name": "stdout",
          "text": [
            "Keras predict:  Ankle boot\n",
            "Answer:  Ankle boot\n"
          ]
        }
      ]
    },
    {
      "cell_type": "code",
      "source": [
        "data = np.array(train_images)[np.newaxis, :].astype(\"float32\")\n",
        "data = data.transpose([1, 0, 2, 3])\n",
        "shape_dict = {\"flatten_1_input\": data.shape}"
      ],
      "metadata": {
        "id": "B-anuJQY3PHC"
      },
      "execution_count": null,
      "outputs": []
    },
    {
      "cell_type": "code",
      "source": [
        "mod, params = tvm.relay.frontend.from_keras(model, shape_dict, layout=\"NCHW\")"
      ],
      "metadata": {
        "id": "xyNrkQQ0_v40"
      },
      "execution_count": null,
      "outputs": []
    },
    {
      "cell_type": "code",
      "source": [
        "print(shape_dict)"
      ],
      "metadata": {
        "id": "FAt063Hb5kG7",
        "colab": {
          "base_uri": "https://localhost:8080/"
        },
        "outputId": "f0552d2c-1802-42c8-a98a-d5ed2d78b2da"
      },
      "execution_count": null,
      "outputs": [
        {
          "output_type": "stream",
          "name": "stdout",
          "text": [
            "{'flatten_1_input': (60000, 1, 28, 28)}\n"
          ]
        }
      ]
    },
    {
      "cell_type": "code",
      "source": [
        "print(mod)"
      ],
      "metadata": {
        "id": "OVqw18Zq_-kh",
        "colab": {
          "base_uri": "https://localhost:8080/"
        },
        "outputId": "43bb1f03-d5ba-4a38-ea56-12eb0cf5c4f2"
      },
      "execution_count": null,
      "outputs": [
        {
          "output_type": "stream",
          "name": "stdout",
          "text": [
            "def @main(%flatten_1_input: Tensor[(60000, 1, 28, 28), float32], %v_param_1: Tensor[(128, 784), float32], %v_param_2: Tensor[(128), float32], %v_param_3: Tensor[(10, 128), float32], %v_param_4: Tensor[(10), float32]) {\n",
            "  %0 = transpose(%flatten_1_input, axes=[0, 2, 3, 1]);\n",
            "  %1 = nn.batch_flatten(%0);\n",
            "  %2 = nn.dense(%1, %v_param_1, units=128);\n",
            "  %3 = nn.bias_add(%2, %v_param_2);\n",
            "  %4 = nn.relu(%3);\n",
            "  %5 = nn.dense(%4, %v_param_3, units=10);\n",
            "  nn.bias_add(%5, %v_param_4)\n",
            "}\n",
            "\n"
          ]
        }
      ]
    },
    {
      "cell_type": "code",
      "source": [
        "print(params)"
      ],
      "metadata": {
        "id": "XpJ0BVt3AAAO",
        "colab": {
          "base_uri": "https://localhost:8080/"
        },
        "outputId": "77abf14b-4e0e-4d12-c6b4-532070808b09"
      },
      "execution_count": null,
      "outputs": [
        {
          "output_type": "stream",
          "name": "stdout",
          "text": [
            "{'_param_1': <tvm.nd.NDArray shape=(128, 784), cpu(0)>\n",
            "array([[ 0.22257568,  0.23190874,  0.3886681 , ..., -0.01436261,\n",
            "         0.26669192,  0.19182   ],\n",
            "       [-0.10346685,  0.04861556,  0.13840634, ...,  0.2748953 ,\n",
            "        -0.29270855,  0.17692687],\n",
            "       [ 0.06714239, -0.19274831, -0.0167403 , ...,  0.09110993,\n",
            "        -0.19981442,  0.07897342],\n",
            "       ...,\n",
            "       [ 0.1773131 ,  0.15603375,  0.11255036, ..., -0.14668164,\n",
            "        -0.21108034,  0.0671009 ],\n",
            "       [-0.05093393,  0.29168066,  0.2898056 , ..., -0.01702415,\n",
            "         0.09920012,  0.15783215],\n",
            "       [ 0.07435638, -0.08680963,  0.07287902, ..., -0.02268694,\n",
            "         0.08838622,  0.09159937]], dtype=float32), '_param_2': <tvm.nd.NDArray shape=(128,), cpu(0)>\n",
            "array([ 0.35672253,  0.14644524,  0.39203906, -0.29724568,  0.22118716,\n",
            "        0.42256585,  0.45139995,  0.47372693,  0.42327607,  0.08090623,\n",
            "        0.3114824 ,  0.23824978,  0.161685  , -0.01218236,  0.20451668,\n",
            "        0.07872387,  0.39456075, -0.01198395,  0.00969925,  0.11173546,\n",
            "       -0.3606385 ,  0.2590441 ,  0.1169374 ,  0.27926826,  0.6163309 ,\n",
            "        0.1313596 ,  0.11780883,  0.24932031,  0.5355703 ,  0.12872319,\n",
            "        0.08829415,  0.3433916 , -0.02866459,  0.640372  ,  0.53268105,\n",
            "        0.21412261,  0.32667696, -0.0130305 , -0.33221513,  0.11935867,\n",
            "        0.23321606, -0.0108119 ,  0.48455244, -0.1496292 , -0.1563667 ,\n",
            "       -0.01571023,  0.07907948,  0.25725865,  0.16298415, -0.28754625,\n",
            "        0.2350512 , -0.3681707 ,  0.0363349 ,  0.30965257,  0.48408258,\n",
            "        0.25776866,  0.65800244,  0.02623193,  0.4392745 ,  0.23955266,\n",
            "       -0.01892978,  0.18247212,  0.10347401,  0.10070276,  0.4894625 ,\n",
            "       -0.28477558,  0.29461554,  0.06217783,  0.44877037, -0.03287473,\n",
            "        0.26397324,  0.3419648 , -0.4192581 , -0.11842907, -0.1673742 ,\n",
            "        0.3469526 , -0.28802514,  0.8191588 ,  0.617155  ,  0.5455628 ,\n",
            "       -0.02500645,  0.04686986,  0.20785081, -0.49303204,  0.4731477 ,\n",
            "        0.28454623,  0.02946946, -0.2694234 , -0.10363003,  0.20379376,\n",
            "       -0.05409493,  0.40116128,  0.38621062,  0.34391022, -0.19115217,\n",
            "        0.4326749 ,  0.47611645,  0.29128534,  0.49393466,  0.18180776,\n",
            "       -0.05499174, -0.33733723, -0.24549715,  0.22434527,  0.03849366,\n",
            "       -0.05666787,  0.506622  ,  0.15499797,  0.60263336,  0.7152295 ,\n",
            "        0.19020705,  0.1879917 ,  0.5868528 ,  0.12456639, -0.18239792,\n",
            "        0.98817396,  0.04457764,  0.20026709,  0.292387  , -0.01577622,\n",
            "       -0.00725043,  0.59683543,  0.16314586,  0.57122105,  0.36554137,\n",
            "        0.5167643 ,  0.14355715, -0.09587782], dtype=float32), '_param_3': <tvm.nd.NDArray shape=(10, 128), cpu(0)>\n",
            "array([[-0.14550848, -0.00898845,  0.0490752 , ..., -0.51056165,\n",
            "         0.07968409, -0.41706583],\n",
            "       [-0.6458052 , -0.3334076 , -0.39888498, ...,  0.3910734 ,\n",
            "         0.15974878, -0.16903685],\n",
            "       [-0.39525783,  0.2422297 ,  0.06541163, ..., -0.3664032 ,\n",
            "         0.09439089, -0.10164186],\n",
            "       ...,\n",
            "       [-1.1337503 , -1.3169667 , -1.1855129 , ...,  0.2927923 ,\n",
            "        -0.09798202, -0.16269958],\n",
            "       [ 0.20346393, -0.31005692, -0.27192125, ..., -0.24127243,\n",
            "        -0.31753072, -0.67106235],\n",
            "       [-0.4310341 , -0.21360187, -0.3994954 , ..., -0.46539932,\n",
            "        -0.01993961,  0.49345854]], dtype=float32), '_param_4': <tvm.nd.NDArray shape=(10,), cpu(0)>\n",
            "array([-0.07667682, -0.4152939 ,  0.15498997,  0.2979193 , -0.39008075,\n",
            "        0.10338513,  0.18612808,  0.22727679, -0.08329584, -0.37379733],\n",
            "      dtype=float32)}\n"
          ]
        }
      ]
    },
    {
      "cell_type": "code",
      "source": [
        "with tvm.transform.PassContext(opt_level=3):\n",
        "    tvm_model = tvm.relay.build_module.create_executor(\"graph\", mod, tvm.cpu(0), \"llvm\", params).evaluate()"
      ],
      "metadata": {
        "id": "ssh9r8Pc5656",
        "colab": {
          "base_uri": "https://localhost:8080/"
        },
        "outputId": "a256627e-95e2-4fb1-8ec3-eaa61973bfe0"
      },
      "execution_count": null,
      "outputs": [
        {
          "output_type": "stream",
          "name": "stderr",
          "text": [
            "/usr/local/lib/python3.7/dist-packages/tvm/driver/build_module.py:268: UserWarning: target_host parameter is going to be deprecated. Please pass in tvm.target.Target(target, host=target_host) instead.\n",
            "  \"target_host parameter is going to be deprecated. \"\n"
          ]
        }
      ]
    },
    {
      "cell_type": "code",
      "source": [
        "tvm_out = tvm_model(tvm.nd.array(data.astype(\"float32\")))\n",
        "top1_tvm = np.argmax(tvm_out.numpy()[0])"
      ],
      "metadata": {
        "id": "-Tnji74t-niL"
      },
      "execution_count": null,
      "outputs": []
    },
    {
      "cell_type": "code",
      "source": [
        "print(\"TVM predict:\", class_names[top1_tvm])\n",
        "print(\"Answer: \", class_names[test_labels[0]])"
      ],
      "metadata": {
        "id": "PN5n0mPp-sEL",
        "colab": {
          "base_uri": "https://localhost:8080/"
        },
        "outputId": "324d37fc-77f8-4136-febe-b063cdf8fd89"
      },
      "execution_count": null,
      "outputs": [
        {
          "output_type": "stream",
          "name": "stdout",
          "text": [
            "TVM predict: Ankle boot\n",
            "Answer:  Ankle boot\n"
          ]
        }
      ]
    }
  ]
}